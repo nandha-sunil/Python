{
 "cells": [
  {
   "cell_type": "code",
   "execution_count": 1,
   "id": "e6c43fbd-f5f7-489e-b5f5-2272cb93f80b",
   "metadata": {},
   "outputs": [
    {
     "name": "stdout",
     "output_type": "stream",
     "text": [
      "Name : SREE NANDHA A.S\n",
      "USN : 1AY24BT052\n",
      "Section: N\n",
      "Today is: Tuesday\n"
     ]
    },
    {
     "name": "stdin",
     "output_type": "stream",
     "text": [
      "Enter your birthday (YYYY-MM-DD):  2006-04-26\n"
     ]
    },
    {
     "name": "stdout",
     "output_type": "stream",
     "text": [
      "Age: 19\n",
      "Days until next birthday: 298\n",
      "Double Day: 2020-01-02\n",
      "Triple Day: 2015-01-01\n"
     ]
    }
   ],
   "source": [
    "#project 9\n",
    "import datetime\n",
    "print (\"\"\"Name : SREE NANDHA A.S\n",
    "USN : 1AY24BT052\n",
    "Section: N\"\"\")\n",
    "\n",
    "today = datetime.date.today()\n",
    "print(\"Today is:\", today.strftime(\"%A\"))\n",
    "\n",
    "\n",
    "\n",
    "\n",
    "from datetime import datetime, timedelta\n",
    "\n",
    "bday = input(\"Enter your birthday (YYYY-MM-DD): \")\n",
    "bday = datetime.strptime(bday, \"%Y-%m-%d\")\n",
    "now = datetime.now()\n",
    "\n",
    "age = now.year - bday.year\n",
    "if (now.month, now.day) < (bday.month, bday.day):\n",
    "    age -= 1\n",
    "\n",
    "next_bday = bday.replace(year=now.year)\n",
    "if next_bday < now:\n",
    "    next_bday = next_bday.replace(year=now.year + 1)\n",
    "\n",
    "left = next_bday - now\n",
    "print(f\"Age: {age}\")\n",
    "print(f\"Days until next birthday: {left.days}\")\n",
    "\n",
    "\n",
    "\n",
    "from datetime import datetime\n",
    "\n",
    "b1 = datetime.strptime(\"2000-01-01\", \"%Y-%m-%d\")\n",
    "b2 = datetime.strptime(\"2010-01-01\", \"%Y-%m-%d\")\n",
    "\n",
    "if b1 > b2:\n",
    "    b1, b2 = b2, b1\n",
    "\n",
    "double_day = b2 + (b2 - b1)\n",
    "print(\"Double Day:\", double_day.date())\n",
    "\n",
    "\n",
    "\n",
    "def n_times_day(b1, b2, n):\n",
    "    if b1 > b2:\n",
    "        b1, b2 = b2, b1\n",
    "        n = 1 / n\n",
    "    return b2 + (b2 - b1) / (n - 1)\n",
    "\n",
    "b1 = datetime.strptime(\"2000-01-01\", \"%Y-%m-%d\")\n",
    "b2 = datetime.strptime(\"2010-01-01\", \"%Y-%m-%d\")\n",
    "print(\"Triple Day:\", n_times_day(b1, b2, 3).date())"
   ]
  },
  {
   "cell_type": "code",
   "execution_count": null,
   "id": "16ce476a-c981-4b57-bb7f-fc47491bd849",
   "metadata": {},
   "outputs": [],
   "source": []
  }
 ],
 "metadata": {
  "kernelspec": {
   "display_name": "Python 3 (ipykernel)",
   "language": "python",
   "name": "python3"
  },
  "language_info": {
   "codemirror_mode": {
    "name": "ipython",
    "version": 3
   },
   "file_extension": ".py",
   "mimetype": "text/x-python",
   "name": "python",
   "nbconvert_exporter": "python",
   "pygments_lexer": "ipython3",
   "version": "3.12.7"
  }
 },
 "nbformat": 4,
 "nbformat_minor": 5
}
