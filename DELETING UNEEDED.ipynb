{
 "cells": [
  {
   "cell_type": "code",
   "execution_count": 1,
   "id": "4161bc87-739e-4562-8316-f8308ab280c1",
   "metadata": {},
   "outputs": [
    {
     "name": "stdout",
     "output_type": "stream",
     "text": [
      "Name : SREE NANDHA A.S\n",
      "USN : 1AY24BT052\n",
      "Section: N\n"
     ]
    },
    {
     "name": "stdin",
     "output_type": "stream",
     "text": [
      "Enter folder path:  C:\\Users\\sreen_j6ec1oh\\Downloads\\Telegram Desktop\n"
     ]
    },
    {
     "name": "stdout",
     "output_type": "stream",
     "text": [
      "C:\\Users\\sreen_j6ec1oh\\Downloads\\Telegram Desktop\\Along_For_The_Ride_2022_1080p_WEBRip_x264_AAC5_1_YTS_MX_mp4_PART.mp4\n",
      "C:\\Users\\sreen_j6ec1oh\\Downloads\\Telegram Desktop\\Anandham (2016) 1080p 10bit AV1 AAC 2.0-SMK_x-matroska.mkv\n",
      "C:\\Users\\sreen_j6ec1oh\\Downloads\\Telegram Desktop\\Chemical Hearts (2020) 1080p 10bit WEBRip x265-PSA.mkv\n",
      "C:\\Users\\sreen_j6ec1oh\\Downloads\\Telegram Desktop\\Dear Comrade (2019) Malayalam HDRip.mkv\n",
      "C:\\Users\\sreen_j6ec1oh\\Downloads\\Telegram Desktop\\Five Feet Apart (2019).mkv\n",
      "C:\\Users\\sreen_j6ec1oh\\Downloads\\Telegram Desktop\\He's Just Not That into You (2009) BDRip - INFOTAINMENT.mp4\n",
      "C:\\Users\\sreen_j6ec1oh\\Downloads\\Telegram Desktop\\Kerala Crime Files S02 E01-E06 Combined Malayalam 720p WEB-D.mkv\n",
      "C:\\Users\\sreen_j6ec1oh\\Downloads\\Telegram Desktop\\Koode (2018)  1080p 10bit WEBDL HEVC AAC 5.1 JrRip.mkv\n",
      "C:\\Users\\sreen_j6ec1oh\\Downloads\\Telegram Desktop\\Maaman (2025) Tamil HQ HDRip - 720p - x264 - AAC (2).mkv\n",
      "C:\\Users\\sreen_j6ec1oh\\Downloads\\Telegram Desktop\\Mayanadhi_2017_Malayalam_BluRay_720p_x264_DD5_1_1_2GB_ESub.mkv\n",
      "C:\\Users\\sreen_j6ec1oh\\Downloads\\Telegram Desktop\\Sufiyum Sujathayum (2020) TrollJunction HDRip 700MB.mkv\n",
      "C:\\Users\\sreen_j6ec1oh\\Downloads\\Telegram Desktop\\The_Summer_I_Turned_Pretty_S01E01_720p_10bit_WEBRip_2CH_x265_HEVC.mkv\n",
      "C:\\Users\\sreen_j6ec1oh\\Downloads\\Telegram Desktop\\The_Summer_I_Turned_Pretty_S01E03_720p_10bit_WEBRip_2CH_x265_HEVC.mkv\n",
      "C:\\Users\\sreen_j6ec1oh\\Downloads\\Telegram Desktop\\The_Summer_I_Turned_Pretty_S01E04_720p_10bit_WEBRip_2CH_x265_HEVC.mkv\n",
      "C:\\Users\\sreen_j6ec1oh\\Downloads\\Telegram Desktop\\The_Summer_I_Turned_Pretty_S01E05_720p_10bit_WEBRip_2CH_x265_HEVC.mkv\n",
      "C:\\Users\\sreen_j6ec1oh\\Downloads\\Telegram Desktop\\The_Summer_I_Turned_Pretty_S01E06_720p_10bit_WEBRip_2CH_x265_HEVC.mkv\n",
      "C:\\Users\\sreen_j6ec1oh\\Downloads\\Telegram Desktop\\The_Summer_I_Turned_Pretty_S01E07_720p_10bit_WEBRip_2CH_x265_HEVC.mkv\n",
      "C:\\Users\\sreen_j6ec1oh\\Downloads\\Telegram Desktop\\[MM] Alappuzha Gymkhana (2025) Malayalam HDRip 720p H.mkv\n",
      "C:\\Users\\sreen_j6ec1oh\\Downloads\\Telegram Desktop\\[MM] Padakkalam (2025) Malayalam HDRip 720p .mkv\n",
      "C:\\Users\\sreen_j6ec1oh\\Downloads\\Telegram Desktop\\[MM] Prince And Family (2025) Malayalam HDRip 720p   .mkv\n",
      "C:\\Users\\sreen_j6ec1oh\\Downloads\\Telegram Desktop\\[MM] Thudarum (2025) Malayalam HDRip 720p .mkv\n",
      "C:\\Users\\sreen_j6ec1oh\\Downloads\\Telegram Desktop\\[MM]We.Live.In.Time.2024.1080p.BluRay.AV1-SWAXXON.mkv\n",
      "C:\\Users\\sreen_j6ec1oh\\Downloads\\Telegram Desktop\\[TIF]_S01_E02_The_Summer_I_Turned_Pretty_720p_Eng.mkv\n"
     ]
    }
   ],
   "source": [
    "#deleting uneeded file\n",
    "import os\n",
    "print (\"\"\"Name : SREE NANDHA A.S\n",
    "USN : 1AY24BT052\n",
    "Section: N\"\"\")\n",
    "folder = input(\"Enter folder path: \")\n",
    "limit = 100 * 1024 * 1024  # 100MB in bytes\n",
    "\n",
    "for foldername, subfolders, filenames in os.walk(folder):\n",
    "    for filename in filenames:\n",
    "        filepath = os.path.join(foldername, filename)\n",
    "        try:\n",
    "            if os.path.getsize(filepath) > limit:\n",
    "                print(os.path.abspath(filepath))\n",
    "        except:\n",
    "            pass  # skip files that can't be accessed"
   ]
  },
  {
   "cell_type": "code",
   "execution_count": null,
   "id": "3e3707e6-0171-43cf-bc57-c2800ee82fb2",
   "metadata": {},
   "outputs": [],
   "source": []
  }
 ],
 "metadata": {
  "kernelspec": {
   "display_name": "Python 3 (ipykernel)",
   "language": "python",
   "name": "python3"
  },
  "language_info": {
   "codemirror_mode": {
    "name": "ipython",
    "version": 3
   },
   "file_extension": ".py",
   "mimetype": "text/x-python",
   "name": "python",
   "nbconvert_exporter": "python",
   "pygments_lexer": "ipython3",
   "version": "3.12.7"
  }
 },
 "nbformat": 4,
 "nbformat_minor": 5
}
