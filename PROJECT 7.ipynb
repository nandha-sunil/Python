{
 "cells": [
  {
   "cell_type": "code",
   "execution_count": 1,
   "id": "f78e2360-34a4-48b6-915e-a96503efd41d",
   "metadata": {},
   "outputs": [
    {
     "name": "stdout",
     "output_type": "stream",
     "text": [
      "Name : SREE NANDHA A.S\n",
      "USN : 1AY24BT052\n",
      "Section: N\n",
      "True\n",
      "True\n",
      "True\n"
     ]
    }
   ],
   "source": [
    "#project7\n",
    "import math\n",
    "print (\"\"\"Name : SREE NANDHA A.S\n",
    "USN : 1AY24BT052\n",
    "Section: N\"\"\")\n",
    "\n",
    "class Point:\n",
    "    def __init__(self, x, y):\n",
    "        self.x = x\n",
    "        self.y = y\n",
    "\n",
    "class Circle:\n",
    "    def __init__(self, center, radius):\n",
    "        self.center = center\n",
    "        self.radius = radius\n",
    "\n",
    "class Rectangle:\n",
    "    def __init__(self, corner, width, height):\n",
    "        self.corner = corner\n",
    "        self.width = width\n",
    "        self.height = height\n",
    "\n",
    "def point_in_circle(circle, point):\n",
    "    dx = circle.center.x - point.x\n",
    "    dy = circle.center.y - point.y\n",
    "    return math.hypot(dx, dy) <= circle.radius\n",
    "\n",
    "def rect_in_circle(circle, rect):\n",
    "    points = [\n",
    "        rect.corner,\n",
    "        Point(rect.corner.x + rect.width, rect.corner.y),\n",
    "        Point(rect.corner.x, rect.corner.y + rect.height),\n",
    "        Point(rect.corner.x + rect.width, rect.corner.y + rect.height)\n",
    "    ]\n",
    "    return all(point_in_circle(circle, p) for p in points)\n",
    "\n",
    "def rect_circle_overlap(circle, rect):\n",
    "    points = [\n",
    "        rect.corner,\n",
    "        Point(rect.corner.x + rect.width, rect.corner.y),\n",
    "        Point(rect.corner.x, rect.corner.y + rect.height),\n",
    "        Point(rect.corner.x + rect.width, rect.corner.y + rect.height)\n",
    "    ]\n",
    "    return any(point_in_circle(circle, p) for p in points)\n",
    "\n",
    "circle = Circle(Point(150, 100), 75)\n",
    "rect = Rectangle(Point(130, 90), 20, 15)\n",
    "print(point_in_circle(circle, Point(160, 105)))     # True\n",
    "print(rect_in_circle(circle, rect))                # True or False\n",
    "print(rect_circle_overlap(circle, rect))           # True or False"
   ]
  },
  {
   "cell_type": "code",
   "execution_count": null,
   "id": "b3ad57c4-dbdb-4d92-bdf4-47fe0ef4cd01",
   "metadata": {},
   "outputs": [],
   "source": []
  }
 ],
 "metadata": {
  "kernelspec": {
   "display_name": "Python 3 (ipykernel)",
   "language": "python",
   "name": "python3"
  },
  "language_info": {
   "codemirror_mode": {
    "name": "ipython",
    "version": 3
   },
   "file_extension": ".py",
   "mimetype": "text/x-python",
   "name": "python",
   "nbconvert_exporter": "python",
   "pygments_lexer": "ipython3",
   "version": "3.12.7"
  }
 },
 "nbformat": 4,
 "nbformat_minor": 5
}
