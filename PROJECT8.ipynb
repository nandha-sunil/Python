{
 "cells": [
  {
   "cell_type": "code",
   "execution_count": 6,
   "id": "c0c8795f-490a-4750-8266-ef39ee3a150d",
   "metadata": {},
   "outputs": [
    {
     "ename": "IndentationError",
     "evalue": "expected an indented block after function definition on line 22 (3511991235.py, line 23)",
     "output_type": "error",
     "traceback": [
      "\u001b[1;36m  Cell \u001b[1;32mIn[6], line 23\u001b[1;36m\u001b[0m\n\u001b[1;33m    total_sec = time.to_seconds()\u001b[0m\n\u001b[1;37m    ^\u001b[0m\n\u001b[1;31mIndentationError\u001b[0m\u001b[1;31m:\u001b[0m expected an indented block after function definition on line 22\n"
     ]
    }
   ],
   "source": [
    "#project8\n",
    "class Time:\n",
    "    def __init__(self, hours=0, minutes=0, seconds=0):\n",
    "        self.hours = hours\n",
    "        self.minutes = minutes\n",
    "        self.seconds = seconds\n",
    "\n",
    "    def to_seconds(self):\n",
    "        return self.hours * 3600 + self.minutes * 60 + self.seconds\n",
    "\n",
    "    @classmethod\n",
    "    def from_seconds(cls, total):\n",
    "        hours = total // 3600\n",
    "        total %= 3600\n",
    "        minutes = total // 60\n",
    "        seconds = total % 60\n",
    "        return cls(int(hours), int(minutes), int(seconds))\n",
    "\n",
    "    def __str__(self):\n",
    "        return f\"{self.hours:02}:{self.minutes:02}:{self.seconds:02}\"\n",
    "\n",
    "    def mul_time(time, factor):\n",
    "    total_sec = time.to_seconds()\n",
    "    return Time.from_seconds(total_sec * factor)\n",
    "\n",
    "\n",
    "\n",
    "\n",
    "     def average_pace(finish_time, distance):\n",
    "    return mul_time(finish_time, 1 / distance)\n",
    "\n",
    "\n",
    "\n",
    "t = Time(1, 30, 0)  # 1 hour 30 minutes = 90 minutes\n",
    "distance = 10       # 10 miles\n",
    "pace = average_pace(t, distance)\n",
    "print (\"\"\"Name : SREE NANDHA A.S\n",
    "USN : 1AY24BT052\n",
    "Section: N\"\"\")\n",
    "\n",
    "print(\"Finish time:\", t)\n",
    "print(\"Average pace per mile:\", pace)"
   ]
  },
  {
   "cell_type": "code",
   "execution_count": null,
   "id": "45ea668e-1adc-48f0-b463-28bb81d50f5a",
   "metadata": {},
   "outputs": [],
   "source": []
  }
 ],
 "metadata": {
  "kernelspec": {
   "display_name": "Python 3 (ipykernel)",
   "language": "python",
   "name": "python3"
  },
  "language_info": {
   "codemirror_mode": {
    "name": "ipython",
    "version": 3
   },
   "file_extension": ".py",
   "mimetype": "text/x-python",
   "name": "python",
   "nbconvert_exporter": "python",
   "pygments_lexer": "ipython3",
   "version": "3.12.7"
  }
 },
 "nbformat": 4,
 "nbformat_minor": 5
}
