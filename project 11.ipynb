{
 "cells": [
  {
   "cell_type": "code",
   "execution_count": 11,
   "id": "8d6a4f49-aa0d-4121-9208-cba72884ee06",
   "metadata": {},
   "outputs": [],
   "source": [
    "#project 11\n",
    "class Kangaroo:\n",
    "    def __init__(self):\n",
    "        self.pouch_contents = []\n",
    "\n",
    "    def put_in_pouch(self, item):\n",
    "        self.pouch_contents.append(item)\n",
    "\n",
    "    def __str__(self):\n",
    "        contents = ', '.join(str(item) for item in self.pouch_contents)\n",
    "        return f'Kangaroo with pouch: [{contents}]'"
   ]
  },
  {
   "cell_type": "code",
   "execution_count": 14,
   "id": "912793d8-08c8-48df-af53-00af62dbcb2f",
   "metadata": {},
   "outputs": [
    {
     "name": "stdout",
     "output_type": "stream",
     "text": [
      "Name : SREE NANDHA A.S\n",
      "USN : 1AY24BT052\n",
      "Section: N\n",
      "Kanga: Kangaroo with pouch: [bottle, Kangaroo with pouch: []]\n",
      "Roo: Kangaroo with pouch: []\n"
     ]
    }
   ],
   "source": [
    "kanga = Kangaroo()\n",
    "roo = Kangaroo()\n",
    "kanga.put_in_pouch('bottle')\n",
    "kanga.put_in_pouch(roo)\n",
    "print (\"\"\"Name : SREE NANDHA A.S\n",
    "USN : 1AY24BT052\n",
    "Section: N\"\"\")\n",
    "print(\"Kanga:\", kanga)\n",
    "print(\"Roo:\", roo)"
   ]
  },
  {
   "cell_type": "code",
   "execution_count": null,
   "id": "1a42ee3c-0db6-43fb-b202-e295a03529f4",
   "metadata": {},
   "outputs": [],
   "source": []
  }
 ],
 "metadata": {
  "kernelspec": {
   "display_name": "Python 3 (ipykernel)",
   "language": "python",
   "name": "python3"
  },
  "language_info": {
   "codemirror_mode": {
    "name": "ipython",
    "version": 3
   },
   "file_extension": ".py",
   "mimetype": "text/x-python",
   "name": "python",
   "nbconvert_exporter": "python",
   "pygments_lexer": "ipython3",
   "version": "3.12.7"
  }
 },
 "nbformat": 4,
 "nbformat_minor": 5
}
