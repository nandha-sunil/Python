{
 "cells": [
  {
   "cell_type": "code",
   "execution_count": 1,
   "id": "fa666695-73a7-44c0-ab69-f53aeb5b4e71",
   "metadata": {},
   "outputs": [
    {
     "name": "stdout",
     "output_type": "stream",
     "text": [
      "Name :SREE NANDHA A S\n",
      "USN : 1AY24BT052\n",
      "Section: N\n"
     ]
    },
    {
     "name": "stdin",
     "output_type": "stream",
     "text": [
      "Enter folder path:  C:\\Users\\sreen_j6ec1oh\\Downloads\\Telegram Desktop\n",
      "Enter file prefix (e.g., spam):  Dear Comrade (2019) Malayalam HDRip\n"
     ]
    }
   ],
   "source": [
    "#filling the holes\n",
    "import os, re\n",
    "print (\"\"\"Name :SREE NANDHA A S\n",
    "USN : 1AY24BT052\n",
    "Section: N\"\"\")\n",
    "folder = input(\"Enter folder path: \")\n",
    "prefix = input(\"Enter file prefix (e.g., spam): \")\n",
    "pattern = re.compile(rf\"{prefix}(\\d+)\\.txt\")\n",
    "\n",
    "files = []\n",
    "for f in sorted(os.listdir(folder)):\n",
    "    match = pattern.fullmatch(f)\n",
    "    if match:\n",
    "        files.append((int(match.group(1)), f))\n",
    "\n",
    "files.sort()\n",
    "expected = 1\n",
    "\n",
    "for number, filename in files:\n",
    "    if number != expected:\n",
    "        new_name = f\"{prefix}{str(expected).zfill(3)}.txt\"\n",
    "        print(f\"Renaming {filename} -> {new_name}\")\n",
    "        os.rename(os.path.join(folder, filename), os.path.join(folder, new_name))\n",
    "    expected += 1"
   ]
  },
  {
   "cell_type": "code",
   "execution_count": null,
   "id": "858e6200-ab83-4c98-a38c-b2d18240494e",
   "metadata": {},
   "outputs": [],
   "source": []
  }
 ],
 "metadata": {
  "kernelspec": {
   "display_name": "Python 3 (ipykernel)",
   "language": "python",
   "name": "python3"
  },
  "language_info": {
   "codemirror_mode": {
    "name": "ipython",
    "version": 3
   },
   "file_extension": ".py",
   "mimetype": "text/x-python",
   "name": "python",
   "nbconvert_exporter": "python",
   "pygments_lexer": "ipython3",
   "version": "3.12.7"
  }
 },
 "nbformat": 4,
 "nbformat_minor": 5
}
