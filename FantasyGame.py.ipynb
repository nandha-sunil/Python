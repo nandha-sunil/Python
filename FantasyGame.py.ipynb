{
 "cells": [
  {
   "cell_type": "code",
   "execution_count": 1,
   "id": "ccbd8d33-7b45-4fce-8850-6adc2996c45d",
   "metadata": {},
   "outputs": [
    {
     "name": "stdout",
     "output_type": "stream",
     "text": [
      "Inventory:\n",
      "45 gold coin\n",
      "1 rope\n",
      "1 dagger\n",
      "1 ruby\n",
      "Total number of items: 48\n"
     ]
    }
   ],
   "source": [
    "def display_inventory(inventory):\n",
    "    print(\"Inventory:\")\n",
    "    total_items = 0\n",
    "    for item, count in inventory.items():\n",
    "        print(f\"{count} {item}\")\n",
    "        total_items += count\n",
    "    print(f\"Total number of items: {total_items}\")\n",
    "def add_to_inventory(inventory, added_items):\n",
    "    for item in added_items:\n",
    "        inventory[item] = inventory.get(item, 0) + 1\n",
    "    return inventory\n",
    "if __name__ == \"__main__\":\n",
    "    inventory = {'gold coin': 42, 'rope': 1}\n",
    "    dragon_loot = ['gold coin', 'dagger', 'gold coin', 'gold coin', 'ruby']\n",
    "    inventory = add_to_inventory(inventory, dragon_loot)\n",
    "    display_inventory(inventory)"
   ]
  },
  {
   "cell_type": "code",
   "execution_count": null,
   "id": "9721876c-3d9d-449e-93ca-98471b2b34ef",
   "metadata": {},
   "outputs": [],
   "source": []
  }
 ],
 "metadata": {
  "kernelspec": {
   "display_name": "Python 3 (ipykernel)",
   "language": "python",
   "name": "python3"
  },
  "language_info": {
   "codemirror_mode": {
    "name": "ipython",
    "version": 3
   },
   "file_extension": ".py",
   "mimetype": "text/x-python",
   "name": "python",
   "nbconvert_exporter": "python",
   "pygments_lexer": "ipython3",
   "version": "3.12.7"
  }
 },
 "nbformat": 4,
 "nbformat_minor": 5
}
