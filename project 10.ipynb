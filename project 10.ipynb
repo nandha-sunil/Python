{
 "cells": [
  {
   "cell_type": "code",
   "execution_count": 1,
   "id": "adec98dc-f82b-476a-a0c4-9de31865db6e",
   "metadata": {},
   "outputs": [],
   "source": [
    "#project10\n",
    "class Time:\n",
    "    def __init__(self, hour=0, minute=0, second=0):\n",
    "        self.seconds = hour * 3600 + minute * 60 + second\n",
    "\n",
    "    def __str__(self):\n",
    "        h, m, s = self.int_to_time()\n",
    "        return f\"{h:02}:{m:02}:{s:02}\"\n",
    "\n",
    "    def int_to_time(self):\n",
    "        minutes, second = divmod(self.seconds, 60)\n",
    "        hour, minute = divmod(minutes, 60)\n",
    "        return hour, minute, second\n",
    "\n",
    "    def time_to_int(self):\n",
    "        return self.seconds\n",
    "\n",
    "    def add_time(self, other):\n",
    "        return Time(0, 0, self.seconds + other.seconds)\n",
    "\n",
    "    def increment(self, seconds):\n",
    "        return Time(0, 0, self.seconds + seconds)\n",
    "\n",
    "    def is_after(self, other):\n",
    "        return self.seconds > other.seconds"
   ]
  },
  {
   "cell_type": "code",
   "execution_count": 2,
   "id": "548e96e6-e570-43b6-a43d-aeb779119ee1",
   "metadata": {},
   "outputs": [
    {
     "name": "stdout",
     "output_type": "stream",
     "text": [
      "Name : SREE NANDHA A S\n",
      "USN : 1AY24BT052\n",
      "Section: N\n",
      "Start time: 09:45:00\n",
      "Duration: 01:35:00\n",
      "Done: 11:20:00\n",
      "Start is after duration? True\n",
      "Start incremented by 500 seconds: 09:53:20\n"
     ]
    }
   ],
   "source": [
    "def main():\n",
    "    start = Time(9, 45, 0)\n",
    "    print(\"Start time:\", start)\n",
    "\n",
    "    duration = Time(1, 35, 0)\n",
    "    print(\"Duration:\", duration)\n",
    "\n",
    "    done = start.add_time(duration)\n",
    "    print(\"Done:\", done)\n",
    "\n",
    "    print(\"Start is after duration?\", start.is_after(duration))\n",
    "    print(\"Start incremented by 500 seconds:\", start.increment(500))\n",
    "print (\"\"\"Name : SREE NANDHA A S\n",
    "USN : 1AY24BT052\n",
    "Section: N\"\"\")\n",
    "if __name__ == '__main__':\n",
    "    main()"
   ]
  },
  {
   "cell_type": "code",
   "execution_count": null,
   "id": "307dc3ec-c81d-4074-9441-e5f50a4f7416",
   "metadata": {},
   "outputs": [],
   "source": []
  }
 ],
 "metadata": {
  "kernelspec": {
   "display_name": "Python 3 (ipykernel)",
   "language": "python",
   "name": "python3"
  },
  "language_info": {
   "codemirror_mode": {
    "name": "ipython",
    "version": 3
   },
   "file_extension": ".py",
   "mimetype": "text/x-python",
   "name": "python",
   "nbconvert_exporter": "python",
   "pygments_lexer": "ipython3",
   "version": "3.12.7"
  }
 },
 "nbformat": 4,
 "nbformat_minor": 5
}
