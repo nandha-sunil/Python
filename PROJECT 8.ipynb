{
 "cells": [
  {
   "cell_type": "code",
   "execution_count": 1,
   "id": "59061b0b-58fc-49b7-96c5-0f96d6609198",
   "metadata": {},
   "outputs": [
    {
     "name": "stdout",
     "output_type": "stream",
     "text": [
      "Name : SREE NANDHA A S\n",
      "USN : 1AY24BT052\n",
      "Section: N\n",
      "Finish time: <__main__.Time object at 0x000001D2857B7230>\n",
      "Average pace per mile: <__main__.Time object at 0x000001D2857B72C0>\n"
     ]
    }
   ],
   "source": [
    "#project8\n",
    "class Time:\n",
    "    def __init__(self, hours=0, minutes=0, seconds=0):\n",
    "        self.hours = hours\n",
    "        self.minutes = minutes\n",
    "        self.seconds = seconds\n",
    "\n",
    "    def to_seconds(self):\n",
    "        return self.hours * 3600 + self.minutes * 60 + self.seconds\n",
    "\n",
    "    @classmethod\n",
    "    def from_seconds(cls, total):\n",
    "        hours = total // 3600\n",
    "        total %= 3600\n",
    "        minutes = total // 60\n",
    "        seconds = total % 60\n",
    "        return cls(int(hours), int(minutes), int(seconds))\n",
    "\n",
    "    def _str_(self):\n",
    "        return f\"{self.hours:02}:{self.minutes:02}:{self.seconds:02}\"\n",
    "\n",
    "\n",
    "\n",
    "def mul_time(time, factor):\n",
    "    total_sec = time.to_seconds()\n",
    "    return Time.from_seconds(total_sec * factor)\n",
    "\n",
    "\n",
    "\n",
    "\n",
    "def average_pace(finish_time, distance):\n",
    "    return mul_time(finish_time, 1 / distance)\n",
    "\n",
    "\n",
    "\n",
    "t = Time(1, 30, 0)  # 1 hour 30 minutes = 90 minutes\n",
    "distance = 10       # 10 miles\n",
    "pace = average_pace(t, distance)\n",
    "print (\"\"\"Name : SREE NANDHA A S\n",
    "USN : 1AY24BT052\n",
    "Section: N\"\"\")\n",
    "\n",
    "print(\"Finish time:\", t)\n",
    "print(\"Average pace per mile:\", pace)"
   ]
  },
  {
   "cell_type": "code",
   "execution_count": null,
   "id": "b3682eb6-5549-4473-9a44-0fc639c569c3",
   "metadata": {},
   "outputs": [],
   "source": []
  }
 ],
 "metadata": {
  "kernelspec": {
   "display_name": "Python 3 (ipykernel)",
   "language": "python",
   "name": "python3"
  },
  "language_info": {
   "codemirror_mode": {
    "name": "ipython",
    "version": 3
   },
   "file_extension": ".py",
   "mimetype": "text/x-python",
   "name": "python",
   "nbconvert_exporter": "python",
   "pygments_lexer": "ipython3",
   "version": "3.12.7"
  }
 },
 "nbformat": 4,
 "nbformat_minor": 5
}
