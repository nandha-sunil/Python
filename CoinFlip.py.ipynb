{
 "cells": [
  {
   "cell_type": "code",
   "execution_count": 3,
   "id": "2163e790-5f67-465f-aa79-f843c259f55a",
   "metadata": {},
   "outputs": [
    {
     "name": "stdin",
     "output_type": "stream",
     "text": [
      "Enter number of coin flips:  3\n"
     ]
    },
    {
     "name": "stdout",
     "output_type": "stream",
     "text": [
      "Flips sequence:\n",
      "Tails Tails Tails\n",
      "Longest streak of same outcome: 3\n"
     ]
    }
   ],
   "source": [
    "import random\n",
    "def flip_coin():\n",
    "    return random.choice(['Heads', 'Tails'])\n",
    "def longest_streak(flips):\n",
    "    max_streak = 1\n",
    "    current_streak = 1\n",
    "    for i in range(1, len(flips)):\n",
    "        if flips[i] == flips[i-1]:\n",
    "            current_streak += 1\n",
    "        else:\n",
    "            max_streak = max(max_streak, current_streak)\n",
    "            current_streak = 1\n",
    "    max_streak = max(max_streak, current_streak)\n",
    "    return max_streak\n",
    "def main():\n",
    "    num_flips = int(input(\"Enter number of coin flips: \"))\n",
    "    flips = []\n",
    "\n",
    "    for _ in range(num_flips):\n",
    "        flips.append(flip_coin())\n",
    "\n",
    "    print(\"Flips sequence:\")\n",
    "    print(' '.join(flips))\n",
    "\n",
    "    streak = longest_streak(flips)\n",
    "    print(f\"Longest streak of same outcome: {streak}\")\n",
    "if __name__ == \"__main__\":\n",
    "    main()"
   ]
  },
  {
   "cell_type": "code",
   "execution_count": null,
   "id": "2c81c834-a8f5-414d-89c8-450cbed07529",
   "metadata": {},
   "outputs": [],
   "source": []
  }
 ],
 "metadata": {
  "kernelspec": {
   "display_name": "Python 3 (ipykernel)",
   "language": "python",
   "name": "python3"
  },
  "language_info": {
   "codemirror_mode": {
    "name": "ipython",
    "version": 3
   },
   "file_extension": ".py",
   "mimetype": "text/x-python",
   "name": "python",
   "nbconvert_exporter": "python",
   "pygments_lexer": "ipython3",
   "version": "3.12.7"
  }
 },
 "nbformat": 4,
 "nbformat_minor": 5
}
