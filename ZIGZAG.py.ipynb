{
 "cells": [
  {
   "cell_type": "code",
   "execution_count": 9,
   "id": "56b7d70a-0c83-47e4-a8be-b2e05617101f",
   "metadata": {},
   "outputs": [
    {
     "name": "stdout",
     "output_type": "stream",
     "text": [
      "Input String : PAYPALISHIRING\n",
      "Number of Rows: 3\n",
      "Converted String: PAHNAPLSIIGYIR\n"
     ]
    }
   ],
   "source": [
    "# zigzag.py\n",
    "def convert(s: str, num_rows: int) -> str:\n",
    "    if num_rows == 1 or num_rows >= len(s):\n",
    "        return s\n",
    "    rows = [''] * num_rows\n",
    "    step = -1\n",
    "    curr_row = 0\n",
    "    for char in s:\n",
    "        rows[curr_row] += char\n",
    "        if curr_row == 0 or curr_row == num_rows - 1:\n",
    "            step *= -1  # Reverse direction at top or bottom\n",
    "        curr_row += step\n",
    "        return ''.join(rows)\n",
    "if __name__ == \"__main__\":\n",
    "    input_string = \"PAYPALISHIRING\"\n",
    "    num_rows = 3\n",
    "    result = convert(input_string, num_rows)\n",
    "    print(\"Input String :\", input_string)\n",
    "    print(\"Number of Rows:\", num_rows)\n",
    "    print(\"Converted String:\", result)"
   ]
  },
  {
   "cell_type": "code",
   "execution_count": null,
   "id": "fcf5a400-5e31-4a39-a306-1173c0fb6b58",
   "metadata": {},
   "outputs": [],
   "source": []
  }
 ],
 "metadata": {
  "kernelspec": {
   "display_name": "Python 3 (ipykernel)",
   "language": "python",
   "name": "python3"
  },
  "language_info": {
   "codemirror_mode": {
    "name": "ipython",
    "version": 3
   },
   "file_extension": ".py",
   "mimetype": "text/x-python",
   "name": "python",
   "nbconvert_exporter": "python",
   "pygments_lexer": "ipython3",
   "version": "3.12.7"
  }
 },
 "nbformat": 4,
 "nbformat_minor": 5
}
