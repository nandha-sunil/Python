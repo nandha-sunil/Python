{
 "cells": [
  {
   "cell_type": "code",
   "execution_count": 2,
   "id": "d2e12dd9-e665-41ff-beaa-bbefca7ef86c",
   "metadata": {},
   "outputs": [
    {
     "name": "stdout",
     "output_type": "stream",
     "text": [
      "Name : SREE NANDHA A.S\n",
      "USN : 1AY24BT052\n",
      "Section: N\n"
     ]
    },
    {
     "name": "stdin",
     "output_type": "stream",
     "text": [
      "Enter source folder path:  C:\\Users\\sreen_j6ec1oh\\Downloads\\Telegram Desktop\n",
      "Enter destination folder path:  C:\\Users\\sreen_j6ec1oh\\OneDrive\\Documents\n",
      "Enter file extension to copy (e.g., .jpg):  .MKV\n"
     ]
    },
    {
     "name": "stdout",
     "output_type": "stream",
     "text": [
      "Copying: C:\\Users\\sreen_j6ec1oh\\Downloads\\Telegram Desktop\\Anandham (2016) 1080p 10bit AV1 AAC 2.0-SMK_x-matroska.mkv -> C:\\Users\\sreen_j6ec1oh\\OneDrive\\Documents\\Anandham (2016) 1080p 10bit AV1 AAC 2.0-SMK_x-matroska.mkv\n",
      "Copying: C:\\Users\\sreen_j6ec1oh\\Downloads\\Telegram Desktop\\Chemical Hearts (2020) 1080p 10bit WEBRip x265-PSA.mkv -> C:\\Users\\sreen_j6ec1oh\\OneDrive\\Documents\\Chemical Hearts (2020) 1080p 10bit WEBRip x265-PSA.mkv\n",
      "Copying: C:\\Users\\sreen_j6ec1oh\\Downloads\\Telegram Desktop\\Dear Comrade (2019) Malayalam HDRip.mkv -> C:\\Users\\sreen_j6ec1oh\\OneDrive\\Documents\\Dear Comrade (2019) Malayalam HDRip.mkv\n",
      "Copying: C:\\Users\\sreen_j6ec1oh\\Downloads\\Telegram Desktop\\Five Feet Apart (2019).mkv -> C:\\Users\\sreen_j6ec1oh\\OneDrive\\Documents\\Five Feet Apart (2019).mkv\n",
      "Copying: C:\\Users\\sreen_j6ec1oh\\Downloads\\Telegram Desktop\\Kerala Crime Files S02 E01-E06 Combined Malayalam 720p WEB-D.mkv -> C:\\Users\\sreen_j6ec1oh\\OneDrive\\Documents\\Kerala Crime Files S02 E01-E06 Combined Malayalam 720p WEB-D.mkv\n",
      "Copying: C:\\Users\\sreen_j6ec1oh\\Downloads\\Telegram Desktop\\Koode (2018)  1080p 10bit WEBDL HEVC AAC 5.1 JrRip.mkv -> C:\\Users\\sreen_j6ec1oh\\OneDrive\\Documents\\Koode (2018)  1080p 10bit WEBDL HEVC AAC 5.1 JrRip.mkv\n",
      "Copying: C:\\Users\\sreen_j6ec1oh\\Downloads\\Telegram Desktop\\Maaman (2025) Tamil HQ HDRip - 720p - x264 - AAC (2).mkv -> C:\\Users\\sreen_j6ec1oh\\OneDrive\\Documents\\Maaman (2025) Tamil HQ HDRip - 720p - x264 - AAC (2).mkv\n",
      "Copying: C:\\Users\\sreen_j6ec1oh\\Downloads\\Telegram Desktop\\Mayanadhi_2017_Malayalam_BluRay_720p_x264_DD5_1_1_2GB_ESub.mkv -> C:\\Users\\sreen_j6ec1oh\\OneDrive\\Documents\\Mayanadhi_2017_Malayalam_BluRay_720p_x264_DD5_1_1_2GB_ESub.mkv\n",
      "Copying: C:\\Users\\sreen_j6ec1oh\\Downloads\\Telegram Desktop\\Sufiyum Sujathayum (2020) TrollJunction HDRip 700MB.mkv -> C:\\Users\\sreen_j6ec1oh\\OneDrive\\Documents\\Sufiyum Sujathayum (2020) TrollJunction HDRip 700MB.mkv\n",
      "Copying: C:\\Users\\sreen_j6ec1oh\\Downloads\\Telegram Desktop\\The_Summer_I_Turned_Pretty_S01E01_720p_10bit_WEBRip_2CH_x265_HEVC.mkv -> C:\\Users\\sreen_j6ec1oh\\OneDrive\\Documents\\The_Summer_I_Turned_Pretty_S01E01_720p_10bit_WEBRip_2CH_x265_HEVC.mkv\n",
      "Copying: C:\\Users\\sreen_j6ec1oh\\Downloads\\Telegram Desktop\\The_Summer_I_Turned_Pretty_S01E03_720p_10bit_WEBRip_2CH_x265_HEVC.mkv -> C:\\Users\\sreen_j6ec1oh\\OneDrive\\Documents\\The_Summer_I_Turned_Pretty_S01E03_720p_10bit_WEBRip_2CH_x265_HEVC.mkv\n",
      "Copying: C:\\Users\\sreen_j6ec1oh\\Downloads\\Telegram Desktop\\The_Summer_I_Turned_Pretty_S01E04_720p_10bit_WEBRip_2CH_x265_HEVC.mkv -> C:\\Users\\sreen_j6ec1oh\\OneDrive\\Documents\\The_Summer_I_Turned_Pretty_S01E04_720p_10bit_WEBRip_2CH_x265_HEVC.mkv\n",
      "Copying: C:\\Users\\sreen_j6ec1oh\\Downloads\\Telegram Desktop\\The_Summer_I_Turned_Pretty_S01E05_720p_10bit_WEBRip_2CH_x265_HEVC.mkv -> C:\\Users\\sreen_j6ec1oh\\OneDrive\\Documents\\The_Summer_I_Turned_Pretty_S01E05_720p_10bit_WEBRip_2CH_x265_HEVC.mkv\n",
      "Copying: C:\\Users\\sreen_j6ec1oh\\Downloads\\Telegram Desktop\\The_Summer_I_Turned_Pretty_S01E06_720p_10bit_WEBRip_2CH_x265_HEVC.mkv -> C:\\Users\\sreen_j6ec1oh\\OneDrive\\Documents\\The_Summer_I_Turned_Pretty_S01E06_720p_10bit_WEBRip_2CH_x265_HEVC.mkv\n",
      "Copying: C:\\Users\\sreen_j6ec1oh\\Downloads\\Telegram Desktop\\The_Summer_I_Turned_Pretty_S01E07_720p_10bit_WEBRip_2CH_x265_HEVC.mkv -> C:\\Users\\sreen_j6ec1oh\\OneDrive\\Documents\\The_Summer_I_Turned_Pretty_S01E07_720p_10bit_WEBRip_2CH_x265_HEVC.mkv\n",
      "Copying: C:\\Users\\sreen_j6ec1oh\\Downloads\\Telegram Desktop\\[MM] Alappuzha Gymkhana (2025) Malayalam HDRip 720p H.mkv -> C:\\Users\\sreen_j6ec1oh\\OneDrive\\Documents\\[MM] Alappuzha Gymkhana (2025) Malayalam HDRip 720p H.mkv\n",
      "Copying: C:\\Users\\sreen_j6ec1oh\\Downloads\\Telegram Desktop\\[MM] Padakkalam (2025) Malayalam HDRip 720p .mkv -> C:\\Users\\sreen_j6ec1oh\\OneDrive\\Documents\\[MM] Padakkalam (2025) Malayalam HDRip 720p .mkv\n",
      "Copying: C:\\Users\\sreen_j6ec1oh\\Downloads\\Telegram Desktop\\[MM] Prince And Family (2025) Malayalam HDRip 720p   .mkv -> C:\\Users\\sreen_j6ec1oh\\OneDrive\\Documents\\[MM] Prince And Family (2025) Malayalam HDRip 720p   .mkv\n",
      "Copying: C:\\Users\\sreen_j6ec1oh\\Downloads\\Telegram Desktop\\[MM] Thudarum (2025) Malayalam HDRip 720p .mkv -> C:\\Users\\sreen_j6ec1oh\\OneDrive\\Documents\\[MM] Thudarum (2025) Malayalam HDRip 720p .mkv\n",
      "Copying: C:\\Users\\sreen_j6ec1oh\\Downloads\\Telegram Desktop\\[MM]We.Live.In.Time.2024.1080p.BluRay.AV1-SWAXXON.mkv -> C:\\Users\\sreen_j6ec1oh\\OneDrive\\Documents\\[MM]We.Live.In.Time.2024.1080p.BluRay.AV1-SWAXXON.mkv\n",
      "Copying: C:\\Users\\sreen_j6ec1oh\\Downloads\\Telegram Desktop\\[TIF]_S01_E02_The_Summer_I_Turned_Pretty_720p_Eng.mkv -> C:\\Users\\sreen_j6ec1oh\\OneDrive\\Documents\\[TIF]_S01_E02_The_Summer_I_Turned_Pretty_720p_Eng.mkv\n"
     ]
    }
   ],
   "source": [
    "#selective copy\n",
    "import os\n",
    "import shutil\n",
    "print (\"\"\"Name : SREE NANDHA A.S\n",
    "USN : 1AY24BT052\n",
    "Section: N\"\"\")\n",
    "def selective_copy(source_folder, dest_folder, extension):\n",
    "    os.makedirs(dest_folder, exist_ok=True)\n",
    "    for foldername, subfolders, filenames in os.walk(source_folder):\n",
    "        for filename in filenames:\n",
    "            if filename.lower().endswith(extension.lower()):\n",
    "                source_path = os.path.join(foldername, filename)\n",
    "                dest_path = os.path.join(dest_folder, filename)\n",
    "                print(f\"Copying: {source_path} -> {dest_path}\")\n",
    "                shutil.copy2(source_path, dest_path)\n",
    "if __name__ == \"__main__\":\n",
    "    src = input(\"Enter source folder path: \")\n",
    "    dst = input(\"Enter destination folder path: \")\n",
    "    ext = input(\"Enter file extension to copy (e.g., .jpg): \")\n",
    "    selective_copy(src, dst, ext)"
   ]
  },
  {
   "cell_type": "code",
   "execution_count": null,
   "id": "3ba99627-0ac2-47ff-bc4e-6d29b94b6ad8",
   "metadata": {},
   "outputs": [],
   "source": []
  }
 ],
 "metadata": {
  "kernelspec": {
   "display_name": "Python 3 (ipykernel)",
   "language": "python",
   "name": "python3"
  },
  "language_info": {
   "codemirror_mode": {
    "name": "ipython",
    "version": 3
   },
   "file_extension": ".py",
   "mimetype": "text/x-python",
   "name": "python",
   "nbconvert_exporter": "python",
   "pygments_lexer": "ipython3",
   "version": "3.12.7"
  }
 },
 "nbformat": 4,
 "nbformat_minor": 5
}
