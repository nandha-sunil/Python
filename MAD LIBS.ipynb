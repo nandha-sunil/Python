{
 "cells": [
  {
   "cell_type": "code",
   "execution_count": 2,
   "id": "d8b7d74e-4d44-4132-b09e-dda9f4277537",
   "metadata": {},
   "outputs": [
    {
     "name": "stdout",
     "output_type": "stream",
     "text": [
      "Name : SREE NANDHA A.S\n",
      "USN : 1AY24BT052\n",
      "Section: N\n"
     ]
    },
    {
     "name": "stdin",
     "output_type": "stream",
     "text": [
      "Enter a adjective:  silly\n",
      "Enter a noun:  chandelier\n",
      "Enter a verb:  screamed\n",
      "Enter a noun:  pickup truck\n"
     ]
    },
    {
     "name": "stdout",
     "output_type": "stream",
     "text": [
      "\n",
      "--- Resulting Text ---\n",
      "\n",
      "The silly panda walked to the chandelier and then screamed. A nearby pickup truck was unaffected by these events.\n"
     ]
    }
   ],
   "source": [
    "#mad libs\n",
    "import re\n",
    "print (\"\"\"Name : SREE NANDHA A.S\n",
    "USN : 1AY24BT052\n",
    "Section: N\"\"\")\n",
    "temp = \"The ADJECTIVE panda walked to the NOUN and then VERB. A nearby NOUN was unaffected by these events.\"\n",
    "placeholders = re.findall(r'\\b(ADJECTIVE|NOUN|ADVERB|VERB)\\b', temp)\n",
    "for placeholder in placeholders:\n",
    "    user_input = input(f\"Enter a {placeholder.lower()}: \")\n",
    "    temp = temp.replace(placeholder, user_input, 1)\n",
    "print(\"\\n--- Resulting Text ---\\n\")\n",
    "print(temp)"
   ]
  },
  {
   "cell_type": "code",
   "execution_count": null,
   "id": "ec6f3e05-966c-466e-846c-299e2fd8082a",
   "metadata": {},
   "outputs": [],
   "source": []
  }
 ],
 "metadata": {
  "kernelspec": {
   "display_name": "Python 3 (ipykernel)",
   "language": "python",
   "name": "python3"
  },
  "language_info": {
   "codemirror_mode": {
    "name": "ipython",
    "version": 3
   },
   "file_extension": ".py",
   "mimetype": "text/x-python",
   "name": "python",
   "nbconvert_exporter": "python",
   "pygments_lexer": "ipython3",
   "version": "3.12.7"
  }
 },
 "nbformat": 4,
 "nbformat_minor": 5
}
