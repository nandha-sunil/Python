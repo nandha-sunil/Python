{
 "cells": [
  {
   "cell_type": "code",
   "execution_count": 4,
   "id": "cd982b4e-c9e3-49dc-8c8d-00d6a30fa5df",
   "metadata": {},
   "outputs": [
    {
     "name": "stdout",
     "output_type": "stream",
     "text": [
      "NAME=SREE NANDHA A.S,USN=1AY24BT052,SECTION=N\n",
      "Zombie Dice Visualization is running. Open your browser to http://localhost:60560 to view it.\n",
      "Press Ctrl-C to quit.\n",
      "Tournament of 1000 games started...\n",
      "Tournament results:\n",
      "Wins:\n",
      "    Stop at 2Shotguns  393\n",
      "        Until Leading  190\n",
      "     Stop at 1Shotgun  184\n",
      "        My Zombie Bot  141\n",
      "               Random   80\n",
      "Ties:\n",
      "    Stop at 2Shotguns    6\n",
      "     Stop at 1Shotgun    5\n",
      "        My Zombie Bot    5\n",
      "               Random    4\n",
      "        Until Leading    4\n"
     ]
    },
    {
     "ename": "SystemExit",
     "evalue": "Quitting...",
     "output_type": "error",
     "traceback": [
      "An exception has occurred, use %tb to see the full traceback.\n",
      "\u001b[1;31mSystemExit\u001b[0m\u001b[1;31m:\u001b[0m Quitting...\n"
     ]
    }
   ],
   "source": [
    "print(\"NAME=SREE NANDHA A.S,USN=1AY24BT052,SECTION=N\")\n",
    "import zombiedice\n",
    "class MyZombie:\n",
    "\n",
    "    def __init__(self, name):\n",
    "        self.name = name\n",
    "    def turn(self, gameState):\n",
    "        diceRollResults = zombiedice.roll() \n",
    "        brains = 0\n",
    "        while diceRollResults is not None:\n",
    "            brains += diceRollResults['brains']\n",
    "            if brains < 2:\n",
    "                diceRollResults = zombiedice.roll() \n",
    "            else:\n",
    "                break\n",
    "zombies = (\n",
    "    zombiedice.examples.RandomCoinFlipZombie(name='Random'),\n",
    "    zombiedice.examples.RollsUntilInTheLeadZombie(name='Until Leading'),\n",
    "    zombiedice.examples.MinNumShotgunsThenStopsZombie(name='Stop at 2Shotguns', minShotguns=2),\n",
    "    zombiedice.examples.MinNumShotgunsThenStopsZombie(name='Stop at 1Shotgun', minShotguns=1), MyZombie(name='My Zombie Bot'),\n",
    ")\n",
    "zombiedice.runWebGui(zombies=zombies, numGames=1000)"
   ]
  },
  {
   "cell_type": "code",
   "execution_count": 2,
   "id": "4e027101-816b-4027-bc3a-c2d793e2f7f7",
   "metadata": {},
   "outputs": [
    {
     "name": "stdout",
     "output_type": "stream",
     "text": [
      "Collecting zombiedice\n",
      "  Downloading zombiedice-0.1.6.tar.gz (106 kB)\n",
      "  Installing build dependencies: started\n",
      "  Installing build dependencies: finished with status 'done'\n",
      "  Getting requirements to build wheel: started\n",
      "  Getting requirements to build wheel: finished with status 'done'\n",
      "  Preparing metadata (pyproject.toml): started\n",
      "  Preparing metadata (pyproject.toml): finished with status 'done'\n",
      "Building wheels for collected packages: zombiedice\n",
      "  Building wheel for zombiedice (pyproject.toml): started\n",
      "  Building wheel for zombiedice (pyproject.toml): finished with status 'done'\n",
      "  Created wheel for zombiedice: filename=zombiedice-0.1.6-py3-none-any.whl size=102232 sha256=f2f22cc6712fa73ff8bfacde9348345cde4b99cece16d7fcccb008f3456c4fc3\n",
      "  Stored in directory: c:\\users\\sreen_j6ec1oh\\appdata\\local\\pip\\cache\\wheels\\e6\\e5\\43\\6f66f133f4205717cce50bbdc13ed05398689ef675fe4be05b\n",
      "Successfully built zombiedice\n",
      "Installing collected packages: zombiedice\n",
      "Successfully installed zombiedice-0.1.6\n",
      "Note: you may need to restart the kernel to use updated packages.\n"
     ]
    }
   ],
   "source": [
    "pip install zombiedice"
   ]
  },
  {
   "cell_type": "code",
   "execution_count": null,
   "id": "c8e8e29a-11a2-4f05-be4d-7137bc831d89",
   "metadata": {},
   "outputs": [],
   "source": []
  },
  {
   "cell_type": "code",
   "execution_count": null,
   "id": "1ff8692f-a4f2-41c4-9411-9cf2ddf7a62a",
   "metadata": {},
   "outputs": [],
   "source": []
  },
  {
   "cell_type": "code",
   "execution_count": null,
   "id": "a80b176c-2a62-48a8-9fd7-d3b8f6f2270f",
   "metadata": {},
   "outputs": [],
   "source": []
  }
 ],
 "metadata": {
  "kernelspec": {
   "display_name": "Python 3 (ipykernel)",
   "language": "python",
   "name": "python3"
  },
  "language_info": {
   "codemirror_mode": {
    "name": "ipython",
    "version": 3
   },
   "file_extension": ".py",
   "mimetype": "text/x-python",
   "name": "python",
   "nbconvert_exporter": "python",
   "pygments_lexer": "ipython3",
   "version": "3.12.7"
  }
 },
 "nbformat": 4,
 "nbformat_minor": 5
}
