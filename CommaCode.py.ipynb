{
 "cells": [
  {
   "cell_type": "code",
   "execution_count": 3,
   "id": "0003dc7f-21aa-4d21-917b-399158fb8fa1",
   "metadata": {},
   "outputs": [
    {
     "name": "stdout",
     "output_type": "stream",
     "text": [
      "Original list: ['apple', 'banana,fruit', 'orange', 'grape\\\\vine']\n",
      "Encoded string: apple,banana\\,fruit,orange,grape\\\\vine\n",
      "Decoded list: ['apple', 'banana,fruit', 'orange', 'grape\\\\vine']\n",
      "Decoding matches original: True\n"
     ]
    }
   ],
   "source": [
    "def encode(items):\n",
    "    \"\"\"\n",
    "    Encodes a list of strings into a single comma-separated string.\n",
    "    Escapes backslashes first, then commas.\n",
    "    \"\"\"\n",
    "    escaped_items = [item.replace('\\\\', '\\\\\\\\').replace(',', '\\\\,') for item in items]\n",
    "    return ','.join(escaped_items)\n",
    "\n",
    "def decode(encoded_str):\n",
    "    \"\"\"\n",
    "    Decodes a comma-separated string back into a list of strings.\n",
    "    Handles escaped commas and backslashes correctly.\n",
    "    \"\"\"\n",
    "    items = []\n",
    "    current = []\n",
    "    i = 0\n",
    "    while i < len(encoded_str):\n",
    "        char = encoded_str[i]\n",
    "        if char == '\\\\':\n",
    "            if i + 1 < len(encoded_str):\n",
    "                current.append(encoded_str[i + 1])\n",
    "                i += 1\n",
    "        elif char == ',':\n",
    "            items.append(''.join(current))\n",
    "            current = []\n",
    "        else:\n",
    "            current.append(char)\n",
    "        i += 1\n",
    "    items.append(''.join(current))\n",
    "    return items\n",
    "\n",
    "if __name__ == \"__main__\":\n",
    "    # Example usage\n",
    "    original_list = [\"apple\", \"banana,fruit\", \"orange\", \"grape\\\\vine\"]\n",
    "    print(\"Original list:\", original_list)\n",
    "\n",
    "    encoded = encode(original_list)\n",
    "    print(\"Encoded string:\", encoded)\n",
    "\n",
    "    decoded = decode(encoded)\n",
    "    print(\"Decoded list:\", decoded)\n",
    "\n",
    "    print(\"Decoding matches original:\", decoded == original_list)\n"
   ]
  },
  {
   "cell_type": "code",
   "execution_count": null,
   "id": "b622d157-b465-4d63-a352-de7fd3e0e46b",
   "metadata": {},
   "outputs": [],
   "source": []
  }
 ],
 "metadata": {
  "kernelspec": {
   "display_name": "Python 3 (ipykernel)",
   "language": "python",
   "name": "python3"
  },
  "language_info": {
   "codemirror_mode": {
    "name": "ipython",
    "version": 3
   },
   "file_extension": ".py",
   "mimetype": "text/x-python",
   "name": "python",
   "nbconvert_exporter": "python",
   "pygments_lexer": "ipython3",
   "version": "3.12.7"
  }
 },
 "nbformat": 4,
 "nbformat_minor": 5
}
