{
 "cells": [
  {
   "cell_type": "code",
   "execution_count": 1,
   "id": "d2e12dd9-e665-41ff-beaa-bbefca7ef86c",
   "metadata": {},
   "outputs": [
    {
     "name": "stdout",
     "output_type": "stream",
     "text": [
      "Name : SREE NANDHA A.S\n",
      "USN : 1AY24BT052\n",
      "Section: N\n"
     ]
    },
    {
     "name": "stdin",
     "output_type": "stream",
     "text": [
      "Enter folder path:  C:\\Users\\sreen_j6ec1oh\\Downloads\\Telegram Desktop\n",
      "Enter regex pattern:  HELLO\n"
     ]
    }
   ],
   "source": [
    "#regex search\n",
    "import os\n",
    "import re\n",
    "print (\"\"\"Name : SREE NANDHA A.S\n",
    "USN : 1AY24BT052\n",
    "Section: N\"\"\")\n",
    "\n",
    "# Ask user for folder and regex pattern\n",
    "folder = input(\"Enter folder path: \")\n",
    "pattern = input(\"Enter regex pattern: \")\n",
    "\n",
    "# Compile the regex\n",
    "regex = re.compile(pattern)\n",
    "\n",
    "# Search through .txt files\n",
    "for filename in os.listdir(folder):\n",
    "    if filename.endswith(\".txt\"):\n",
    "        with open(os.path.join(folder, filename), 'r') as file:\n",
    "            for line in file:\n",
    "                if regex.search(line):\n",
    "                    print(f\"{filename}: {line.strip()}\")"
   ]
  },
  {
   "cell_type": "code",
   "execution_count": null,
   "id": "7588a8c0-4e0a-4f82-b309-302ffac055a0",
   "metadata": {},
   "outputs": [],
   "source": []
  }
 ],
 "metadata": {
  "kernelspec": {
   "display_name": "Python 3 (ipykernel)",
   "language": "python",
   "name": "python3"
  },
  "language_info": {
   "codemirror_mode": {
    "name": "ipython",
    "version": 3
   },
   "file_extension": ".py",
   "mimetype": "text/x-python",
   "name": "python",
   "nbconvert_exporter": "python",
   "pygments_lexer": "ipython3",
   "version": "3.12.7"
  }
 },
 "nbformat": 4,
 "nbformat_minor": 5
}
