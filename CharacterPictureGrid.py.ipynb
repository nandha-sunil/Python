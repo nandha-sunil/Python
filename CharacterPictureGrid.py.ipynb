{
 "cells": [
  {
   "cell_type": "code",
   "execution_count": 1,
   "id": "8512012b-9d7e-4c90-a64c-79d71378e4d7",
   "metadata": {},
   "outputs": [
    {
     "name": "stdin",
     "output_type": "stream",
     "text": [
      "Enter a word or string:  HELLO\n"
     ]
    },
    {
     "name": "stdout",
     "output_type": "stream",
     "text": [
      "H\n",
      "HE\n",
      "HEL\n",
      "HELL\n",
      "HELLO\n"
     ]
    }
   ],
   "source": [
    "# character_picture_grid.py\n",
    "\n",
    "def print_character_grid(word):\n",
    "    length = len(word)\n",
    "    for i in range(1, length + 1):\n",
    "        # Print first i characters of the word in a row\n",
    "        print(word[:i])\n",
    "\n",
    "if __name__ == \"__main__\":\n",
    "    input_word = input(\"Enter a word or string: \")\n",
    "    print_character_grid(input_word)"
   ]
  },
  {
   "cell_type": "code",
   "execution_count": null,
   "id": "f82f482a-971c-409b-8c9e-0e88a45b58bb",
   "metadata": {},
   "outputs": [],
   "source": []
  }
 ],
 "metadata": {
  "kernelspec": {
   "display_name": "Python 3 (ipykernel)",
   "language": "python",
   "name": "python3"
  },
  "language_info": {
   "codemirror_mode": {
    "name": "ipython",
    "version": 3
   },
   "file_extension": ".py",
   "mimetype": "text/x-python",
   "name": "python",
   "nbconvert_exporter": "python",
   "pygments_lexer": "ipython3",
   "version": "3.12.7"
  }
 },
 "nbformat": 4,
 "nbformat_minor": 5
}
